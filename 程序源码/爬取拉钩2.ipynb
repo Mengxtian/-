{
 "cells": [
  {
   "cell_type": "code",
   "execution_count": null,
   "metadata": {},
   "outputs": [],
   "source": [
    "import requests\n",
    "import time\n",
    "api_url = 'https://www.lagou.com/zhaopin/python/?filterOption=3&sid=99132d4b071a4952a73374db9065626f'\n",
    "\n",
    "headers = {\n",
    "    'authority': 'www.lagou.com',\n",
    "    'origin': 'https://www.lagou.com',\n",
    "    'referer': 'https://www.lagou.com/common-sec/security-check.html?seed=D89EDF4C0F280C2520354383A9293134A82A073B95DD8F4E2384DBB75AB29A80E79BE7A16A7782C48DA549AF0D902002&ts=16173307710616&name=addf6cbaa505&callbackUrl=https%3A%2F%2Fwww.lagou.com%2Fzhaopin%2Fwebqianduan%2F%3FfilterOption%3D3%26sid%3D99132d4b071a4952a73374db9065626f&srcReferer=https%3A%2F%2Fwww.lagou.com%2Fzhaopin%2Fwebqianduan%2F2%2F%3FfilterOption%3D2%26sid%3D99132d4b071a4952a73374db9065626f',\n",
    "    'user-agent': 'Mozilla/5.0 (Windows NT 10.0; Win64; x64) AppleWebKit/537.36 (KHTML, like Gecko) Chrome/89.0.4389.82 Safari/537.36',\n",
    "    'cookie': 'user_trace_token=20210402103251-59be65be-d0c4-4b55-8eaa-bde7245c8ddb; X_HTTP_TOKEN=42daf4b72327b2811770337161bf5e71415983ed09; __lg_stoken__=addf6cbaa5057048159a2b56e67a76495aa154f7e6aa0cefa5fae9908f2e85c7ef74bbd7858adf05fdb3756ab679c03bb9801b443ac1495594cb03df0f3a61042179f8ae9e70'\n",
    "#coolies 包含session\n",
    "    }\n",
    "for i in range(1,31,1):\n",
    "    data = {\n",
    "        'first': 'true',\n",
    "        'pn': '{i}',\n",
    "        'kd': 'web前端',\n",
    "        }\n",
    "    response = requests.post(api_url,headers=headers,data = data)\n",
    "    with open('./new_lagou.txt','a',encoding='utf-8') as fp:\n",
    "        fp.write(response.text)\n",
    "        print(f'爬取成功！第{i}页')\n",
    "    time.sleep(300)\n",
    "fp.close()\n",
    "#获取最开始的cookie\n",
    "#http 客户端发送请求，服务器设置 cookie"
   ]
  },
  {
   "cell_type": "code",
   "execution_count": null,
   "metadata": {},
   "outputs": [],
   "source": []
  },
  {
   "cell_type": "code",
   "execution_count": null,
   "metadata": {},
   "outputs": [],
   "source": []
  }
 ],
 "metadata": {
  "kernelspec": {
   "display_name": "Python 3",
   "language": "python",
   "name": "python3"
  },
  "language_info": {
   "codemirror_mode": {
    "name": "ipython",
    "version": 3
   },
   "file_extension": ".py",
   "mimetype": "text/x-python",
   "name": "python",
   "nbconvert_exporter": "python",
   "pygments_lexer": "ipython3",
   "version": "3.7.0"
  }
 },
 "nbformat": 4,
 "nbformat_minor": 2
}
